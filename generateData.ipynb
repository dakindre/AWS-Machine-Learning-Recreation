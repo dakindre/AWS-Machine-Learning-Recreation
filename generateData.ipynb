{
 "cells": [
  {
   "cell_type": "code",
   "execution_count": null,
   "metadata": {},
   "outputs": [],
   "source": [
    "import os\n",
    "import boto3\n",
    "import pandas as pd\n",
    "import numpy as np\n",
    "import matplotlib.pyplot as plt\n",
    "from math import sqrt\n",
    "from io import StringIO"
   ]
  },
  {
   "cell_type": "code",
   "execution_count": 143,
   "metadata": {},
   "outputs": [],
   "source": [
    "# Create normalized distributions with means as national average\n",
    "# Arbitrary st dev values are given to simulate data spread seen in field\n",
    "\n",
    "vdpViews = np.sort(np.random.normal(8320, 2000, size=60000))\n",
    "visitors = np.sort(np.random.normal(7365, 1800, size=60000))\n",
    "leadVolume = np.sort(np.random.normal(216, 50, size=60000))\n",
    "visitorConversions = np.sort(np.random.normal(1834, 500, size=60000))\n",
    "\n",
    "# Create Sales Number distribution using ordered random generated values\n",
    "sales = np.sort(np.random.randint(low = 5, high = 150, size=60000))\n",
    "\n",
    "\n",
    "# Combine data into dataframe\n",
    "df = pd.DataFrame({'vdpViews':vdpViews\n",
    "                   ,'visitors':visitors\n",
    "                   ,'leadVolume':leadVolume\n",
    "                   ,'visitorConversions':visitorConversions\n",
    "                   ,'sales':sales})"
   ]
  },
  {
   "cell_type": "code",
   "execution_count": 144,
   "metadata": {},
   "outputs": [],
   "source": [
    "# Put dataframe into CSV\n",
    "df.to_csv('genLeadsOct2018.csv')"
   ]
  },
  {
   "cell_type": "code",
   "execution_count": 145,
   "metadata": {},
   "outputs": [],
   "source": [
    "# Send data set to S3 bucket\n",
    "client = boto3.client('s3')\n",
    "\n",
    "client.upload_file(\n",
    "    Filename = 'genLeadsOct2018.csv', \n",
    "    Bucket = 'generated-data-sales-generating', \n",
    "    Key = 'genLeadsOct2018.csv',\n",
    "    ExtraArgs = {\n",
    "      'StorageClass': 'STANDARD_IA'\n",
    "    }\n",
    ")"
   ]
  }
 ],
 "metadata": {
  "kernelspec": {
   "display_name": "Python 3",
   "language": "python",
   "name": "python3"
  },
  "language_info": {
   "codemirror_mode": {
    "name": "ipython",
    "version": 3
   },
   "file_extension": ".py",
   "mimetype": "text/x-python",
   "name": "python",
   "nbconvert_exporter": "python",
   "pygments_lexer": "ipython3",
   "version": "3.7.0"
  }
 },
 "nbformat": 4,
 "nbformat_minor": 2
}
