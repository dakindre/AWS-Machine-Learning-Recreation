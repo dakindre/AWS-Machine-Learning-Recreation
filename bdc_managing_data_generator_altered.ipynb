{
 "cells": [
  {
   "cell_type": "code",
   "execution_count": 1,
   "metadata": {},
   "outputs": [],
   "source": [
    "import os\n",
    "import boto3\n",
    "import csv\n",
    "import pandas as pd\n",
    "import numpy as np\n",
    "import matplotlib.pyplot as plt\n",
    "from math import sqrt\n",
    "from io import StringIO"
   ]
  },
  {
   "cell_type": "code",
   "execution_count": 2,
   "metadata": {},
   "outputs": [],
   "source": [
    "# Generate Unique List of Dealer ID's for all 12 months\n",
    "BAC = []\n",
    "for v in range(11111, 16111): BAC.append(v)\n",
    "\n",
    "# Create List of Regions for Dealerships\n",
    "RegionList= ['NORTHCENTRAL', 'NORTHEASTERN', 'WESTERN', 'SOUTHEASTERN', 'SOUTHCENTRAL'] * 1000\n",
    "\n",
    "# Create DFs from lists\n",
    "df1 = pd.DataFrame({ 'BAC':BAC,'Region': RegionList})\n",
    "df2 = pd.DataFrame({'Month': ['Jan', 'Feb', 'Mar', 'Apr', 'May', 'Jun', 'Jul', 'Aug', 'Sep', 'Oct', 'Nov', 'Dec']})\n",
    "\n",
    "\n",
    "    \n",
    "# Create cross apply type functionality across all months and Dealers\n",
    "dealerData = pd.merge(df1.assign(tmp=1),\n",
    "                     df2.assign(tmp=1), on='tmp').drop('tmp', 1)"
   ]
  },
  {
   "cell_type": "code",
   "execution_count": 3,
   "metadata": {},
   "outputs": [],
   "source": [
    "# Create normalized distributions with means as national average\n",
    "# Arbitrary st dev values are given to simulate data spread seen in field\n",
    "\n",
    "closeRate = np.sort(np.random.normal(10.1, 1.8, size=60000))\n",
    "sdsv = np.sort(np.random.normal(1.8, 0.4, size=60000))\n",
    "salesLoyaly = np.sort(np.random.normal(88.1, 4, size=60000))\n",
    "responded30Min = np.sort(np.random.normal(64.3, 11, size=60000))\n",
    "                         \n",
    "# Create Sales Number distribution using ordered random generated values\n",
    "sales = np.sort(np.random.randint(low = 5, high = 150, size=60000))\n",
    "\n",
    "# Combine data into dataframe\n",
    "df = pd.DataFrame({ 'BAC': dealerData[dealerData.columns[0]]\n",
    "                   ,'Region': dealerData[dealerData.columns[1]]\n",
    "                   ,'Month': dealerData[dealerData.columns[2]]\n",
    "                   ,'CloseRate':closeRate\n",
    "                   ,'SDSVCloseRate':sdsv\n",
    "                   ,'SalesLoyalty':salesLoyaly\n",
    "                   ,'Responded30Min':responded30Min\n",
    "                   ,'Sales':sales})"
   ]
  },
  {
   "cell_type": "code",
   "execution_count": 4,
   "metadata": {},
   "outputs": [
    {
     "data": {
      "image/png": "[encoded data removed]",
      "text/plain": [
       "<Figure size 432x288 with 1 Axes>"
      ]
     },
     "metadata": {
      "needs_background": "light"
     },
     "output_type": "display_data"
    }
   ],
   "source": [
    "plt.hist(closeRate, bins='auto')\n",
    "plt.show()"
   ]
  },
  {
   "cell_type": "code",
   "execution_count": 5,
   "metadata": {},
   "outputs": [],
   "source": [
    "# Create CSV from DataFrame\n",
    "df.to_csv('Managing_Leads_2020.csv')"
   ]
  },
  {
   "cell_type": "code",
   "execution_count": null,
   "metadata": {
    "scrolled": true
   },
   "outputs": [],
   "source": [
    "# Send data set to S3 bucket\n",
    "client = boto3.client('s3')\n",
    "\n",
    "client.upload_file(\n",
    "    Filename = 'Generated_Leads_2018.csv', \n",
    "    Bucket = 'generated-data-sales-generating', \n",
    "    Key = 'genLeadsOct2018.csv',\n",
    "    ExtraArgs = {\n",
    "      'StorageClass': 'STANDARD_IA'\n",
    "    }\n",
    ")"
   ]
  }
 ],
 "metadata": {
  "kernelspec": {
   "display_name": "Python 3",
   "language": "python",
   "name": "python3"
  },
  "language_info": {
   "codemirror_mode": {
    "name": "ipython",
    "version": 3
   },
   "file_extension": ".py",
   "mimetype": "text/x-python",
   "name": "python",
   "nbconvert_exporter": "python",
   "pygments_lexer": "ipython3",
   "version": "3.7.0"
  }
 },
 "nbformat": 4,
 "nbformat_minor": 2
}
